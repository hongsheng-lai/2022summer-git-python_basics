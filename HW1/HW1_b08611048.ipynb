{
 "cells": [
  {
   "cell_type": "code",
   "execution_count": 15,
   "metadata": {},
   "outputs": [],
   "source": [
    "# <=40、<=50、<=60、<=70、<=80以及>80\n",
    "dic_before = {\"<=40\":0, \"<=50\":0, \"<=60\":0, \"<=70\":0, \"<=80\":0, \">80\":0}\n",
    "dic_after= {\"<=40\":0, \"<=50\":0, \"<=60\":0, \"<=70\":0, \"<=80\":0, \">80\":0}\n",
    "\n",
    "line_count = 0\n",
    "punc_count = 0\n",
    "\n",
    "with open(\"HW1.txt\", \"r\") as f_r:\n",
    "    for line in f_r:\n",
    "        # count lines\n",
    "        line_count += 1\n",
    "\n",
    "        # check length of line before trim\n",
    "        if len(line) <= 40:\n",
    "            dic_before[\"<=40\"] += 1\n",
    "        elif len(line) <= 50:\n",
    "            dic_before[\"<=50\"] += 1\n",
    "        elif len(line) <= 60:\n",
    "            dic_before[\"<=60\"] += 1\n",
    "        elif len(line) <= 70:\n",
    "            dic_before[\"<=70\"] += 1\n",
    "        elif len(line) <= 80:\n",
    "            dic_before[\"<=80\"] += 1\n",
    "        elif len(line) > 80:\n",
    "            dic_before[\">80\"] += 1\n",
    "\n",
    "        # count lines with punctuation\n",
    "        for i in list(\"!?+-\"):\n",
    "            if i in line:\n",
    "                punc_count += 1\n",
    "                break\n",
    "        \n",
    "        # check length of line after trim\n",
    "        if len(line.replace(\"!\", \"\").replace(\"?\", \"\").replace(\"+\", \"\").replace(\"-\", \"\")) <= 40:\n",
    "            dic_after[\"<=40\"] += 1\n",
    "        elif len(line.replace(\"!\", \"\").replace(\"?\", \"\").replace(\"+\", \"\").replace(\"-\", \"\")) <= 50:\n",
    "            dic_after[\"<=50\"] += 1\n",
    "        elif len(line.replace(\"!\", \"\").replace(\"?\", \"\").replace(\"+\", \"\").replace(\"-\", \"\")) <= 60:\n",
    "            dic_after[\"<=60\"] += 1\n",
    "        elif len(line.replace(\"!\", \"\").replace(\"?\", \"\").replace(\"+\", \"\").replace(\"-\", \"\")) <= 70:\n",
    "            dic_after[\"<=70\"] += 1\n",
    "        elif len(line.replace(\"!\", \"\").replace(\"?\", \"\").replace(\"+\", \"\").replace(\"-\", \"\")) <= 80:\n",
    "            dic_after[\"<=80\"] += 1\n",
    "        elif len(line.replace(\"!\", \"\").replace(\"?\", \"\").replace(\"+\", \"\").replace(\"-\", \"\")) > 80:\n",
    "            dic_after[\">80\"] += 1"
   ]
  },
  {
   "cell_type": "code",
   "execution_count": 17,
   "metadata": {},
   "outputs": [
    {
     "name": "stdout",
     "output_type": "stream",
     "text": [
      "{'<=40': 27, '<=50': 161, '<=60': 156, '<=70': 121, '<=80': 61, '>80': 13}\n",
      "{'<=40': 37, '<=50': 196, '<=60': 138, '<=70': 115, '<=80': 50, '>80': 3}\n",
      "539\n",
      "169\n",
      "  |six eight|\n"
     ]
    }
   ],
   "source": [
    "print(dic_before)\n",
    "print(dic_after)\n",
    "print(line_count)\n",
    "print(punc_count)\n",
    "print('%6s' % '|six','%-6s' % 'eight|')"
   ]
  },
  {
   "cell_type": "code",
   "execution_count": 29,
   "metadata": {},
   "outputs": [
    {
     "name": "stdout",
     "output_type": "stream",
     "text": [
      "length before trim after trim \n",
      "  <=40          27         37\n",
      "  <=50         161        196\n",
      "  <=60         156        138\n",
      "  <=70         121        115\n",
      "  <=80          61         50\n",
      "   >80          13          3\n"
     ]
    }
   ],
   "source": [
    "title = [\"length\", \"before trim\", \"after trim\"]\n",
    "for t in title:\n",
    "    print(t, end=\" \", file=f_w)\n",
    "print(\"\", file=f_w)\n",
    "for i in dic_before:\n",
    "    print(f'%{len(title[0])}s' % i, f'%{len(title[1])}s' % dic_before[i], f'%{len(title[2])}s' % dic_after[i], file=f_w)"
   ]
  },
  {
   "cell_type": "code",
   "execution_count": 31,
   "metadata": {},
   "outputs": [],
   "source": [
    "with open(\"HW1_b08611048.txt\", \"w\") as f_w:\n",
    "    print(f\"There are {line_count} sentences in HW1.txt. {punc_count} of them include !?+-.\", file=f_w)\n",
    "    title = [\"length\", \"before trim\", \"after trim\"]\n",
    "    for t in title:\n",
    "        print(t, end=\" \", file=f_w)\n",
    "    print(\"\", file=f_w)\n",
    "    for i in dic_before:\n",
    "        print(f'%{len(title[0])}s' % i, f'%{len(title[1])}s' % dic_before[i], f'%{len(title[2])}s' % dic_after[i], file=f_w)"
   ]
  }
 ],
 "metadata": {
  "interpreter": {
   "hash": "cd78fef2128015050713e82ca51c6520b11aee7c9ee8df750520bbbc7384cbaa"
  },
  "kernelspec": {
   "display_name": "Python 3.9.7 64-bit ('base': conda)",
   "language": "python",
   "name": "python3"
  },
  "language_info": {
   "codemirror_mode": {
    "name": "ipython",
    "version": 3
   },
   "file_extension": ".py",
   "mimetype": "text/x-python",
   "name": "python",
   "nbconvert_exporter": "python",
   "pygments_lexer": "ipython3",
   "version": "3.9.7"
  },
  "orig_nbformat": 4
 },
 "nbformat": 4,
 "nbformat_minor": 2
}
